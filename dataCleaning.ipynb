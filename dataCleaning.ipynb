{
 "cells": [
  {
   "cell_type": "markdown",
   "id": "2b74f470-f60c-4406-84a4-9323d99864d1",
   "metadata": {},
   "source": [
    "### Importing necessary libraries"
   ]
  },
  {
   "cell_type": "code",
   "execution_count": 382,
   "id": "f2a93059-d504-46e7-8d83-9e0e75d7f2b4",
   "metadata": {},
   "outputs": [],
   "source": [
    "import pandas as pd\n",
    "import numpy as np\n",
    "import seaborn as sns\n",
    "import re"
   ]
  },
  {
   "cell_type": "markdown",
   "id": "abf1b720-5533-4ff3-8cda-bb6f5dda5d94",
   "metadata": {},
   "source": [
    "### Reading data "
   ]
  },
  {
   "cell_type": "code",
   "execution_count": 384,
   "id": "b55a1a1a-3ac8-4d80-94f9-8bd31bb0b1a6",
   "metadata": {},
   "outputs": [],
   "source": [
    "df = pd.read_csv('raw_mysuru.csv')"
   ]
  },
  {
   "cell_type": "markdown",
   "id": "86730a33-b46b-4d26-9030-60606ece589e",
   "metadata": {},
   "source": [
    "### Performing data cleaning"
   ]
  },
  {
   "cell_type": "code",
   "execution_count": 252,
   "id": "84fae593-4d1a-4d13-b4b0-ef3954983e72",
   "metadata": {},
   "outputs": [],
   "source": [
    "def formating(x):\n",
    "    if x.endswith(', Mysore') :\n",
    "        return x[:-8]\n",
    "    else:\n",
    "        return x"
   ]
  },
  {
   "cell_type": "code",
   "execution_count": 386,
   "id": "b6439b4f-1fcc-45a6-bb90-3edc53779b98",
   "metadata": {},
   "outputs": [],
   "source": [
    "df['location'] = df['location'].apply(formating)"
   ]
  },
  {
   "cell_type": "code",
   "execution_count": 256,
   "id": "7382e453-07ac-42a1-88d5-3f2b1c58541e",
   "metadata": {},
   "outputs": [],
   "source": [
    "# as multiple prokers for same property"
   ]
  },
  {
   "cell_type": "markdown",
   "id": "7637eeb8-2247-4bfb-885c-67d34fddcfa4",
   "metadata": {},
   "source": [
    "### removing duplicates"
   ]
  },
  {
   "cell_type": "code",
   "execution_count": 388,
   "id": "8bf656c9-dfde-4674-81e9-53a16eb0d1e4",
   "metadata": {},
   "outputs": [],
   "source": [
    "df.drop_duplicates(subset=['location','price','area','name'],inplace=True)  "
   ]
  },
  {
   "cell_type": "markdown",
   "id": "308b0a90-d411-4930-8e28-ab3cde9d3269",
   "metadata": {},
   "source": [
    "### drop unnecessary columns"
   ]
  },
  {
   "cell_type": "code",
   "execution_count": 390,
   "id": "5687e02a-a884-4aa9-aac1-6029390f6b66",
   "metadata": {},
   "outputs": [],
   "source": [
    "df.drop(columns=['Unnamed: 0'],inplace=True)"
   ]
  },
  {
   "cell_type": "code",
   "execution_count": 392,
   "id": "180244a7-b294-48af-93c7-2aa3a679710f",
   "metadata": {},
   "outputs": [],
   "source": [
    "df.drop(columns=['name'],inplace=True)"
   ]
  },
  {
   "cell_type": "code",
   "execution_count": 570,
   "id": "47c65804-5063-4dad-9f88-fe04ac7315c4",
   "metadata": {},
   "outputs": [
    {
     "data": {
      "text/plain": [
       "location          0\n",
       "price             0\n",
       "area              0\n",
       "bhk               0\n",
       "locations         0\n",
       "abs_price         0\n",
       "sqft_val          0\n",
       "price_per_sqft    0\n",
       "type              0\n",
       "dtype: int64"
      ]
     },
     "execution_count": 570,
     "metadata": {},
     "output_type": "execute_result"
    }
   ],
   "source": [
    "df.isnull().sum()"
   ]
  },
  {
   "cell_type": "code",
   "execution_count": 572,
   "id": "a2996874-43c1-4b78-8df8-ccf84d9a1f55",
   "metadata": {},
   "outputs": [
    {
     "data": {
      "text/html": [
       "<div>\n",
       "<style scoped>\n",
       "    .dataframe tbody tr th:only-of-type {\n",
       "        vertical-align: middle;\n",
       "    }\n",
       "\n",
       "    .dataframe tbody tr th {\n",
       "        vertical-align: top;\n",
       "    }\n",
       "\n",
       "    .dataframe thead th {\n",
       "        text-align: right;\n",
       "    }\n",
       "</style>\n",
       "<table border=\"1\" class=\"dataframe\">\n",
       "  <thead>\n",
       "    <tr style=\"text-align: right;\">\n",
       "      <th></th>\n",
       "      <th>location</th>\n",
       "      <th>price</th>\n",
       "      <th>area</th>\n",
       "      <th>bhk</th>\n",
       "      <th>locations</th>\n",
       "      <th>abs_price</th>\n",
       "      <th>sqft_val</th>\n",
       "      <th>price_per_sqft</th>\n",
       "      <th>type</th>\n",
       "    </tr>\n",
       "  </thead>\n",
       "  <tbody>\n",
       "    <tr>\n",
       "      <th>0</th>\n",
       "      <td>Residential land / Plot in Bogadi</td>\n",
       "      <td>₹17 - 41.25 Lac</td>\n",
       "      <td>581 - 1,453 sqft</td>\n",
       "      <td>Plot/Land</td>\n",
       "      <td>Bogadi</td>\n",
       "      <td>2912500.0</td>\n",
       "      <td>1017</td>\n",
       "      <td>2863.8</td>\n",
       "      <td>Plot</td>\n",
       "    </tr>\n",
       "    <tr>\n",
       "      <th>1</th>\n",
       "      <td>Residential land / Plot in Jayapura</td>\n",
       "      <td>₹12.85 - 43.61 Lac</td>\n",
       "      <td>680 - 2,560 sqft</td>\n",
       "      <td>Plot/Land</td>\n",
       "      <td>Jayapura</td>\n",
       "      <td>2823000.0</td>\n",
       "      <td>1620</td>\n",
       "      <td>1742.6</td>\n",
       "      <td>Plot</td>\n",
       "    </tr>\n",
       "    <tr>\n",
       "      <th>2</th>\n",
       "      <td>Residential land / Plot in Lalithadripura</td>\n",
       "      <td>₹74 Lac</td>\n",
       "      <td>1,200 sqft</td>\n",
       "      <td>Plot/Land</td>\n",
       "      <td>Lalithadripura</td>\n",
       "      <td>7400000.0</td>\n",
       "      <td>1200</td>\n",
       "      <td>6166.7</td>\n",
       "      <td>Plot</td>\n",
       "    </tr>\n",
       "    <tr>\n",
       "      <th>3</th>\n",
       "      <td>3 BHK Flat in Vishweshwara Nagar</td>\n",
       "      <td>₹90 Lac</td>\n",
       "      <td>1,420 sqft</td>\n",
       "      <td>3 BHK</td>\n",
       "      <td>Vishweshwara Nagar</td>\n",
       "      <td>9000000.0</td>\n",
       "      <td>1420</td>\n",
       "      <td>6338.0</td>\n",
       "      <td>House</td>\n",
       "    </tr>\n",
       "    <tr>\n",
       "      <th>4</th>\n",
       "      <td>4 Bedroom House in Vidyaranyapura</td>\n",
       "      <td>₹2.59 Cr</td>\n",
       "      <td>2,587 sqft</td>\n",
       "      <td>4 BHK</td>\n",
       "      <td>Vidyaranyapura</td>\n",
       "      <td>25900000.0</td>\n",
       "      <td>2587</td>\n",
       "      <td>10011.6</td>\n",
       "      <td>House</td>\n",
       "    </tr>\n",
       "    <tr>\n",
       "      <th>...</th>\n",
       "      <td>...</td>\n",
       "      <td>...</td>\n",
       "      <td>...</td>\n",
       "      <td>...</td>\n",
       "      <td>...</td>\n",
       "      <td>...</td>\n",
       "      <td>...</td>\n",
       "      <td>...</td>\n",
       "      <td>...</td>\n",
       "    </tr>\n",
       "    <tr>\n",
       "      <th>1745</th>\n",
       "      <td>Residential land / Plot in Bannur Road</td>\n",
       "      <td>₹3 Cr</td>\n",
       "      <td>10,000 sqft</td>\n",
       "      <td>Plot/Land</td>\n",
       "      <td>Bannur Road</td>\n",
       "      <td>30000000.0</td>\n",
       "      <td>10000</td>\n",
       "      <td>3000.0</td>\n",
       "      <td>Plot</td>\n",
       "    </tr>\n",
       "    <tr>\n",
       "      <th>1746</th>\n",
       "      <td>Residential land / Plot in Yelwala</td>\n",
       "      <td>₹25 Lac</td>\n",
       "      <td>800 sqft</td>\n",
       "      <td>Plot/Land</td>\n",
       "      <td>Yelwala</td>\n",
       "      <td>2500000.0</td>\n",
       "      <td>800</td>\n",
       "      <td>3125.0</td>\n",
       "      <td>Plot</td>\n",
       "    </tr>\n",
       "    <tr>\n",
       "      <th>1747</th>\n",
       "      <td>3 BHK Flat in Bogadi</td>\n",
       "      <td>₹85 Lac</td>\n",
       "      <td>1,710 sqft</td>\n",
       "      <td>3 BHK</td>\n",
       "      <td>Bogadi</td>\n",
       "      <td>8500000.0</td>\n",
       "      <td>1710</td>\n",
       "      <td>4970.8</td>\n",
       "      <td>House</td>\n",
       "    </tr>\n",
       "    <tr>\n",
       "      <th>1748</th>\n",
       "      <td>6 Bedroom House in Vidyaranyapura</td>\n",
       "      <td>₹1.2 Cr</td>\n",
       "      <td>1,100 sqft</td>\n",
       "      <td>6 BHK</td>\n",
       "      <td>Vidyaranyapura</td>\n",
       "      <td>12000000.0</td>\n",
       "      <td>1100</td>\n",
       "      <td>10909.1</td>\n",
       "      <td>House</td>\n",
       "    </tr>\n",
       "    <tr>\n",
       "      <th>1749</th>\n",
       "      <td>4 Bedroom House in Vijaynagar</td>\n",
       "      <td>₹1.5 Cr</td>\n",
       "      <td>3,230 sqft</td>\n",
       "      <td>4 BHK</td>\n",
       "      <td>Vijaynagar</td>\n",
       "      <td>15000000.0</td>\n",
       "      <td>3230</td>\n",
       "      <td>4644.0</td>\n",
       "      <td>House</td>\n",
       "    </tr>\n",
       "  </tbody>\n",
       "</table>\n",
       "<p>1495 rows × 9 columns</p>\n",
       "</div>"
      ],
      "text/plain": [
       "                                       location               price  \\\n",
       "0             Residential land / Plot in Bogadi     ₹17 - 41.25 Lac   \n",
       "1           Residential land / Plot in Jayapura  ₹12.85 - 43.61 Lac   \n",
       "2     Residential land / Plot in Lalithadripura             ₹74 Lac   \n",
       "3             3 BHK Flat in Vishweshwara Nagar              ₹90 Lac   \n",
       "4             4 Bedroom House in Vidyaranyapura            ₹2.59 Cr   \n",
       "...                                         ...                 ...   \n",
       "1745     Residential land / Plot in Bannur Road               ₹3 Cr   \n",
       "1746         Residential land / Plot in Yelwala             ₹25 Lac   \n",
       "1747                       3 BHK Flat in Bogadi             ₹85 Lac   \n",
       "1748          6 Bedroom House in Vidyaranyapura             ₹1.2 Cr   \n",
       "1749              4 Bedroom House in Vijaynagar             ₹1.5 Cr   \n",
       "\n",
       "                  area        bhk            locations   abs_price  sqft_val  \\\n",
       "0     581 - 1,453 sqft  Plot/Land               Bogadi   2912500.0      1017   \n",
       "1     680 - 2,560 sqft  Plot/Land             Jayapura   2823000.0      1620   \n",
       "2           1,200 sqft  Plot/Land       Lalithadripura   7400000.0      1200   \n",
       "3           1,420 sqft      3 BHK  Vishweshwara Nagar    9000000.0      1420   \n",
       "4           2,587 sqft      4 BHK       Vidyaranyapura  25900000.0      2587   \n",
       "...                ...        ...                  ...         ...       ...   \n",
       "1745       10,000 sqft  Plot/Land          Bannur Road  30000000.0     10000   \n",
       "1746          800 sqft  Plot/Land              Yelwala   2500000.0       800   \n",
       "1747        1,710 sqft      3 BHK               Bogadi   8500000.0      1710   \n",
       "1748        1,100 sqft      6 BHK       Vidyaranyapura  12000000.0      1100   \n",
       "1749        3,230 sqft      4 BHK           Vijaynagar  15000000.0      3230   \n",
       "\n",
       "      price_per_sqft   type  \n",
       "0             2863.8   Plot  \n",
       "1             1742.6   Plot  \n",
       "2             6166.7   Plot  \n",
       "3             6338.0  House  \n",
       "4            10011.6  House  \n",
       "...              ...    ...  \n",
       "1745          3000.0   Plot  \n",
       "1746          3125.0   Plot  \n",
       "1747          4970.8  House  \n",
       "1748         10909.1  House  \n",
       "1749          4644.0  House  \n",
       "\n",
       "[1495 rows x 9 columns]"
      ]
     },
     "execution_count": 572,
     "metadata": {},
     "output_type": "execute_result"
    }
   ],
   "source": [
    "df"
   ]
  },
  {
   "cell_type": "markdown",
   "id": "4b04ef07-a4da-4a60-84a4-4a79bad456ce",
   "metadata": {},
   "source": [
    "### Finding the hottest locations for real estate in mysore"
   ]
  },
  {
   "cell_type": "code",
   "execution_count": 398,
   "id": "dc9906a1-365a-4842-b8d6-5f09cfe86dfe",
   "metadata": {},
   "outputs": [],
   "source": [
    "locations = []\n",
    "for i in df['location']:\n",
    "    loc = i.split(' in ')\n",
    "    locations.append(loc[1])"
   ]
  },
  {
   "cell_type": "code",
   "execution_count": 400,
   "id": "f0bbd134-9bb9-461d-9829-43ad016adaa9",
   "metadata": {},
   "outputs": [],
   "source": [
    "mysore_areawise = pd.DataFrame(pd.Series(locations).value_counts()).reset_index()"
   ]
  },
  {
   "cell_type": "code",
   "execution_count": 402,
   "id": "864e33e9-2b84-4065-bc15-9e43dc8d457a",
   "metadata": {},
   "outputs": [],
   "source": [
    "mysore_areawise.columns = ['locations','count']"
   ]
  },
  {
   "cell_type": "code",
   "execution_count": 404,
   "id": "559dc964-cc10-4988-8c42-1fe3da55f391",
   "metadata": {},
   "outputs": [],
   "source": [
    "hot_locations = mysore_areawise.head(30) "
   ]
  },
  {
   "cell_type": "code",
   "execution_count": 406,
   "id": "1249fbd6-58da-4888-b642-d1a0a2a4e568",
   "metadata": {},
   "outputs": [
    {
     "data": {
      "text/html": [
       "<div>\n",
       "<style scoped>\n",
       "    .dataframe tbody tr th:only-of-type {\n",
       "        vertical-align: middle;\n",
       "    }\n",
       "\n",
       "    .dataframe tbody tr th {\n",
       "        vertical-align: top;\n",
       "    }\n",
       "\n",
       "    .dataframe thead th {\n",
       "        text-align: right;\n",
       "    }\n",
       "</style>\n",
       "<table border=\"1\" class=\"dataframe\">\n",
       "  <thead>\n",
       "    <tr style=\"text-align: right;\">\n",
       "      <th></th>\n",
       "      <th>locations</th>\n",
       "      <th>count</th>\n",
       "    </tr>\n",
       "  </thead>\n",
       "  <tbody>\n",
       "    <tr>\n",
       "      <th>0</th>\n",
       "      <td>4th Stage Vijayanagar</td>\n",
       "      <td>71</td>\n",
       "    </tr>\n",
       "    <tr>\n",
       "      <th>1</th>\n",
       "      <td>Bogadi</td>\n",
       "      <td>69</td>\n",
       "    </tr>\n",
       "    <tr>\n",
       "      <th>2</th>\n",
       "      <td>JP Nagar</td>\n",
       "      <td>61</td>\n",
       "    </tr>\n",
       "    <tr>\n",
       "      <th>3</th>\n",
       "      <td>Yelwala</td>\n",
       "      <td>47</td>\n",
       "    </tr>\n",
       "    <tr>\n",
       "      <th>4</th>\n",
       "      <td>Hebbal</td>\n",
       "      <td>37</td>\n",
       "    </tr>\n",
       "    <tr>\n",
       "      <th>...</th>\n",
       "      <td>...</td>\n",
       "      <td>...</td>\n",
       "    </tr>\n",
       "    <tr>\n",
       "      <th>294</th>\n",
       "      <td>Manuganahalli Hunsur road</td>\n",
       "      <td>1</td>\n",
       "    </tr>\n",
       "    <tr>\n",
       "      <th>295</th>\n",
       "      <td>Yaraganahalli</td>\n",
       "      <td>1</td>\n",
       "    </tr>\n",
       "    <tr>\n",
       "      <th>296</th>\n",
       "      <td>Saligrama</td>\n",
       "      <td>1</td>\n",
       "    </tr>\n",
       "    <tr>\n",
       "      <th>297</th>\n",
       "      <td>Vyasthi Serenity Manuganahalli Ilwala Mysore</td>\n",
       "      <td>1</td>\n",
       "    </tr>\n",
       "    <tr>\n",
       "      <th>298</th>\n",
       "      <td>Nandini Layout 2nd Stage</td>\n",
       "      <td>1</td>\n",
       "    </tr>\n",
       "  </tbody>\n",
       "</table>\n",
       "<p>299 rows × 2 columns</p>\n",
       "</div>"
      ],
      "text/plain": [
       "                                        locations  count\n",
       "0                           4th Stage Vijayanagar     71\n",
       "1                                          Bogadi     69\n",
       "2                                        JP Nagar     61\n",
       "3                                         Yelwala     47\n",
       "4                                          Hebbal     37\n",
       "..                                            ...    ...\n",
       "294                     Manuganahalli Hunsur road      1\n",
       "295                                 Yaraganahalli      1\n",
       "296                                     Saligrama      1\n",
       "297  Vyasthi Serenity Manuganahalli Ilwala Mysore      1\n",
       "298                      Nandini Layout 2nd Stage      1\n",
       "\n",
       "[299 rows x 2 columns]"
      ]
     },
     "execution_count": 406,
     "metadata": {},
     "output_type": "execute_result"
    }
   ],
   "source": [
    "mysore_areawise"
   ]
  },
  {
   "cell_type": "markdown",
   "id": "75f594ec-0b27-4d1d-9574-ab7cf8d49be2",
   "metadata": {},
   "source": [
    "### Applying Feature engineering to include relevant data in required format"
   ]
  },
  {
   "cell_type": "code",
   "execution_count": 408,
   "id": "9e952f52-c66e-47be-92c7-1bddede600b0",
   "metadata": {},
   "outputs": [],
   "source": [
    "def area_extract(x):\n",
    "    return x.split(' in ')[1]"
   ]
  },
  {
   "cell_type": "code",
   "execution_count": 410,
   "id": "5e369b93-5b71-48c4-a9e0-e9b4d641e39b",
   "metadata": {},
   "outputs": [],
   "source": [
    "df['locations'] = df['location'].apply(area_extract)"
   ]
  },
  {
   "cell_type": "code",
   "execution_count": 412,
   "id": "8bb9a9e0-7845-4472-8abe-8218952003da",
   "metadata": {},
   "outputs": [
    {
     "data": {
      "text/plain": [
       "price\n",
       "Lac                 907\n",
       "Cr                  588\n",
       "Price on Request      1\n",
       "Name: count, dtype: int64"
      ]
     },
     "execution_count": 412,
     "metadata": {},
     "output_type": "execute_result"
    }
   ],
   "source": [
    "df['price'].apply(lambda x : 'Lac' if x.endswith('Lac') else ('Cr' if x.endswith('Cr') else x)).value_counts()"
   ]
  },
  {
   "cell_type": "code",
   "execution_count": 498,
   "id": "15bce9be-29ab-4796-a69d-a0130f1f30a0",
   "metadata": {},
   "outputs": [
    {
     "name": "stdout",
     "output_type": "stream",
     "text": [
      "4999.0\n"
     ]
    }
   ],
   "source": [
    "def extract_float(s):\n",
    "    s_clean = s.replace(',', '')\n",
    "    \n",
    "    pattern = re.compile(r\"[-+]?(?:\\d*\\.\\d+|\\d+)\")\n",
    "    match = pattern.search(s_clean)\n",
    "    \n",
    "    return float(match.group()) if match else None\n",
    "\n",
    "print(extract_float('₹49,99 Lac'))"
   ]
  },
  {
   "cell_type": "code",
   "execution_count": 454,
   "id": "76396c5a-f3f6-4413-b504-0338c90a2b4d",
   "metadata": {},
   "outputs": [],
   "source": [
    "def new_price(price):\n",
    "    price_new = []\n",
    "    for i in price:\n",
    "        if ' - ' in i:\n",
    "            # via manual screening we know suffix = Lac\n",
    "            suffix = 100000\n",
    "            vals = i.split(' - ')\n",
    "            num1 = extract_float(vals[0])\n",
    "            num2 = extract_float(vals[1])\n",
    "            price_new.append(round(((num1+num2)/2)*suffix))\n",
    "        else:\n",
    "            if i.endswith('Lac'):\n",
    "                suffix = 100000\n",
    "            elif i.endswith('Cr'):\n",
    "                suffix = 10000000\n",
    "            val = extract_float(i)\n",
    "            try:\n",
    "                price_new.append(round(val*suffix))\n",
    "            except Exception as e:\n",
    "                price_new.append(np.nan)\n",
    "                print(e)\n",
    "    #print(price_new)\n",
    "    return price_new"
   ]
  },
  {
   "cell_type": "code",
   "execution_count": 488,
   "id": "207797fb-f40b-4c33-beef-a9ff04161554",
   "metadata": {},
   "outputs": [
    {
     "name": "stdout",
     "output_type": "stream",
     "text": [
      "unsupported operand type(s) for *: 'NoneType' and 'int'\n"
     ]
    },
    {
     "data": {
      "text/plain": [
       "1"
      ]
     },
     "execution_count": 488,
     "metadata": {},
     "output_type": "execute_result"
    }
   ],
   "source": [
    "pd.Series(new_price(df['price'])).isnull().sum()"
   ]
  },
  {
   "cell_type": "code",
   "execution_count": 490,
   "id": "9a0c3042-ef4d-448b-8b1f-8e466ed97790",
   "metadata": {},
   "outputs": [
    {
     "name": "stdout",
     "output_type": "stream",
     "text": [
      "unsupported operand type(s) for *: 'NoneType' and 'int'\n"
     ]
    }
   ],
   "source": [
    "df['abs_price'] = pd.Series(new_price(df['price']),index=df.index)"
   ]
  },
  {
   "cell_type": "code",
   "execution_count": 492,
   "id": "6123ce8c-db31-47c8-bb50-54c9a4e8b481",
   "metadata": {},
   "outputs": [
    {
     "data": {
      "text/plain": [
       "1"
      ]
     },
     "execution_count": 492,
     "metadata": {},
     "output_type": "execute_result"
    }
   ],
   "source": [
    "df['abs_price'].isnull().sum()"
   ]
  },
  {
   "cell_type": "code",
   "execution_count": 516,
   "id": "cca3f1ea-1845-46f1-a649-f2e0d471dbb1",
   "metadata": {},
   "outputs": [],
   "source": [
    "def extract_sqft(area):\n",
    "    sqft = []\n",
    "    for i in area:\n",
    "        if ' - ' in i:\n",
    "            vals = i.split(' - ')\n",
    "            num1 = extract_float(vals[0])\n",
    "            num2 = extract_float(vals[1])\n",
    "            sqft.append(round((num1+num2)/2))\n",
    "        else:\n",
    "            val = extract_float(i)\n",
    "            try:\n",
    "                sqft.append(round(val))\n",
    "            except Exception as e:\n",
    "                sqft.append(np.nan)\n",
    "                print(e)\n",
    "    return sqft"
   ]
  },
  {
   "cell_type": "code",
   "execution_count": 522,
   "id": "262477e2-b293-4db9-9c73-c3674cb71b2e",
   "metadata": {},
   "outputs": [],
   "source": [
    "df['sqft_val'] = pd.Series(extract_sqft(df['area']),index=df.index)"
   ]
  },
  {
   "cell_type": "code",
   "execution_count": 544,
   "id": "d4d8cf95-3b73-49ff-b273-176e33f85ce5",
   "metadata": {},
   "outputs": [],
   "source": [
    "df['price_per_sqft'] = round(df['abs_price']/df['sqft_val'],1)"
   ]
  },
  {
   "cell_type": "code",
   "execution_count": 552,
   "id": "ab46cc58-7809-4a21-a2be-53749cb058b7",
   "metadata": {},
   "outputs": [],
   "source": [
    "df.dropna(inplace=True)"
   ]
  },
  {
   "cell_type": "code",
   "execution_count": 568,
   "id": "794b118e-480e-4555-bca2-90e00e50a59b",
   "metadata": {},
   "outputs": [],
   "source": [
    "df['type'] = df['bhk'].apply(lambda x : 'Plot' if x == 'Plot/Land' else 'House')"
   ]
  },
  {
   "cell_type": "code",
   "execution_count": 583,
   "id": "837e1001-8da2-470b-b3a0-c1ffa97d90ba",
   "metadata": {},
   "outputs": [],
   "source": [
    "df['num_bhk'] = df['bhk'].apply(extract_float)"
   ]
  },
  {
   "cell_type": "code",
   "execution_count": 606,
   "id": "edaa56ec-6142-4b57-853a-77572d6139e9",
   "metadata": {},
   "outputs": [],
   "source": [
    "avg_price_data = pd.DataFrame(df.groupby(['locations', 'type'])['price_per_sqft'].mean()).reset_index()"
   ]
  },
  {
   "cell_type": "code",
   "execution_count": 610,
   "id": "a41f70e5-8743-4065-8e38-191de6cbaf32",
   "metadata": {},
   "outputs": [],
   "source": [
    "avg_price_data['price_per_sqft'] = avg_price_data['price_per_sqft'].apply(lambda x : round(x))"
   ]
  },
  {
   "cell_type": "markdown",
   "id": "870c66cd-4edb-4104-a35c-45f124006354",
   "metadata": {},
   "source": [
    "### Exporting cleaned and transformed data "
   ]
  },
  {
   "cell_type": "code",
   "execution_count": 638,
   "id": "42a98a56-cbe7-4a4a-8742-a52f39e86a86",
   "metadata": {},
   "outputs": [],
   "source": [
    "avg_price_data.to_csv('avg.csv')"
   ]
  },
  {
   "cell_type": "markdown",
   "id": "aeb403ca-85ca-48e0-960b-b0aa9662c8bb",
   "metadata": {},
   "source": [
    "df.to_csv('mysuru_fin.csv')"
   ]
  }
 ],
 "metadata": {
  "kernelspec": {
   "display_name": "Python [conda env:base] *",
   "language": "python",
   "name": "conda-base-py"
  },
  "language_info": {
   "codemirror_mode": {
    "name": "ipython",
    "version": 3
   },
   "file_extension": ".py",
   "mimetype": "text/x-python",
   "name": "python",
   "nbconvert_exporter": "python",
   "pygments_lexer": "ipython3",
   "version": "3.12.7"
  }
 },
 "nbformat": 4,
 "nbformat_minor": 5
}
